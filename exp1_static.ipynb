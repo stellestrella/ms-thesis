{
 "cells": [
  {
   "cell_type": "code",
   "execution_count": 1,
   "metadata": {},
   "outputs": [],
   "source": [
    "import pandas as pd\n",
    "import numpy as np\n",
    "import gensim"
   ]
  },
  {
   "cell_type": "markdown",
   "metadata": {},
   "source": [
    "# get embeddings"
   ]
  },
  {
   "cell_type": "code",
   "execution_count": 2,
   "metadata": {},
   "outputs": [],
   "source": [
    "#FastText\n",
    "import io\n",
    "\n",
    "def load_vectors(fname):\n",
    "    fin = io.open(fname, 'r', encoding='utf-8', newline='\\n', errors='ignore')\n",
    "    data = {}\n",
    "    for line in fin:\n",
    "        tokens = line.rstrip().split(' ')\n",
    "        data[tokens[0]] = np.array(tokens[1:])\n",
    "    return data\n",
    "\n",
    "vec_wiki = load_vectors('wiki-news-300d-1M.vec')\n",
    "vec_crawl = load_vectors('crawl-300d-2M.vec')"
   ]
  },
  {
   "cell_type": "code",
   "execution_count": 3,
   "metadata": {},
   "outputs": [],
   "source": [
    "#Glove\n",
    "vec_glove = {}\n",
    "with open('glove.6B.300d.txt', 'r') as file:\n",
    "    for line in file:\n",
    "        elements = line.split()\n",
    "        word = elements[0]\n",
    "        embeddings = np.array(elements[1:])\n",
    "        \n",
    "        vec_glove[word] = embeddings"
   ]
  },
  {
   "cell_type": "code",
   "execution_count": 4,
   "metadata": {},
   "outputs": [],
   "source": [
    "#Google\n",
    "\n",
    "vec_google = gensim.models.KeyedVectors.load_word2vec_format('GoogleNews-vectors-negative300.bin.gz', binary=True)\n",
    "\n",
    "#google.word_vec(\"dog\")"
   ]
  },
  {
   "cell_type": "markdown",
   "metadata": {},
   "source": [
    "# dataset"
   ]
  },
  {
   "cell_type": "code",
   "execution_count": 5,
   "metadata": {},
   "outputs": [],
   "source": [
    "data = pd.read_excel('mit_final.xlsx', index_col=0)\n",
    "data['all'] = data['intro'] + \" \" + data['leadership'] + \" \" + data['challenge'] + \" \" + data['weakness'] + \" \" + data['whyhire']"
   ]
  },
  {
   "cell_type": "code",
   "execution_count": 6,
   "metadata": {},
   "outputs": [],
   "source": [
    "ratings = pd.read_csv('turker_scores_full_interview.csv', index_col=0)\n",
    "ratings['Participant'] = ratings.index\n",
    "ratings = ratings[ratings['Worker'] == 'AGGR']"
   ]
  },
  {
   "cell_type": "code",
   "execution_count": 7,
   "metadata": {},
   "outputs": [],
   "source": [
    "data=pd.concat([data, ratings], axis=1)"
   ]
  },
  {
   "cell_type": "markdown",
   "metadata": {},
   "source": [
    "# get x and y"
   ]
  },
  {
   "cell_type": "code",
   "execution_count": 9,
   "metadata": {},
   "outputs": [],
   "source": [
    "def get_x(data, column_question):\n",
    "    \n",
    "    from nltk.corpus import stopwords\n",
    "    import string\n",
    "    \n",
    "    sws = ['pretty', 'uhm', 'uhmm', 'hmmm', 'uhmmm', 'um', 'umm', 'ummm', 'ummmm', 'mmmmmm', 'uh', 'uhh', 'uhhh', 'ah', \n",
    "          'ahh', 'ahhh', 'ok', 'interviewee', 'okay', 'yeah', 'inaudible', 'hmm',\n",
    "          'laughs', 'alright', 'well', 'heh', 'oh', 'ohh', 'ohhh', 'hm', 'hmm', 'hmmmm', 'yea', 'yes', 'yeah']\n",
    "#     sws = sw + stopwords.words('english')\n",
    "\n",
    "    import re\n",
    "    regex = re.compile('[%s]' % re.escape(string.punctuation))\n",
    "    regex2 = re.compile('interviewee')\n",
    "    \n",
    "    x = data[column_question].values    \n",
    "    x_clean = []\n",
    "    \n",
    "    for line in x:\n",
    "        line = str(line).lower()\n",
    "        line = line.encode(\"ascii\", \"ignore\")\n",
    "        line = line.decode()\n",
    "\n",
    "        line = regex.sub('', line)\n",
    "        line = regex2.sub('', line)\n",
    "        \n",
    "        line_temp = []\n",
    "        for token in line.rstrip().split():\n",
    "            if token not in sws:\n",
    "                line_temp.append(token)\n",
    "        x_clean.append(\" \".join(line_temp))\n",
    "        \n",
    "\n",
    "        \n",
    "    return x_clean\n"
   ]
  },
  {
   "cell_type": "code",
   "execution_count": 10,
   "metadata": {},
   "outputs": [],
   "source": [
    "y_overall = data['Overall'].values\n",
    "y_hire = data['RecommendHiring'].values\n",
    "y_colleague = data['Colleague'].values\n",
    "y_eng = data['Engaged'].values\n",
    "y_excit = data['Excited'].values\n",
    "y_eye = data['EyeContact'].values\n",
    "y_smiled = data['Smiled'].values\n",
    "y_rate = data['SpeakingRate'].values\n",
    "y_nofiller= data['NoFillers'].values\n",
    "y_friendly = data['Friendly'].values\n",
    "y_paused = data['Paused'].values\n",
    "y_engtone = data['EngagingTone'].values\n",
    "y_str = data['StructuredAnswers'].values\n",
    "y_calm = data['Calm'].values\n",
    "y_notstress = data['NotStressed'].values\n",
    "y_focused = data['Focused'].values\n",
    "y_auth = data['Authentic'].values\n",
    "y_notawk = data['NotAwkward'].values\n",
    "y_total = data['Total'].values"
   ]
  },
  {
   "cell_type": "code",
   "execution_count": 11,
   "metadata": {},
   "outputs": [],
   "source": [
    "x_i = get_x(data, 'intro')\n",
    "x_l = get_x(data, 'leadership')\n",
    "x_c = get_x(data, 'challenge')\n",
    "x_w = get_x(data, 'weakness')\n",
    "x_h = get_x(data, 'whyhire')\n",
    "x_all = get_x(data, 'all')"
   ]
  },
  {
   "cell_type": "markdown",
   "metadata": {},
   "source": [
    "# vectorize"
   ]
  },
  {
   "cell_type": "code",
   "execution_count": 12,
   "metadata": {},
   "outputs": [],
   "source": [
    "def vectorize_avg(embedding, x):\n",
    "    \n",
    "    vecs = []\n",
    "    for row in x:\n",
    "        temp = []\n",
    "        for token in row.strip().split():\n",
    "            if token in embedding.keys():\n",
    "                temp.append(embedding[token])\n",
    "        vec = np.array(temp).astype(np.float)\n",
    "        avg = np.mean(vec, axis=0, dtype='float32')\n",
    "        vecs.append(avg)\n",
    "    \n",
    "    return np.array(vecs)\n",
    "\n",
    "def vectorize_sum(embedding, x):\n",
    "    \n",
    "    vecs = []\n",
    "    for row in x:\n",
    "        temp = []\n",
    "        for token in row.strip().split():\n",
    "            if token in embedding.keys():\n",
    "                temp.append(embedding[token])\n",
    "        vec = np.array(temp).astype(np.float)\n",
    "        avg = np.sum(vec, axis=0, dtype='float32')\n",
    "        vecs.append(avg)\n",
    "    \n",
    "    return np.array(vecs)\n",
    "\n",
    "\n",
    "def vectorize_avg_google(embedding, x):\n",
    "    \n",
    "    vecs = []\n",
    "    for row in x:\n",
    "        temp = []\n",
    "        for token in row.strip().split():\n",
    "            if token in embedding:\n",
    "                temp.append(embedding.word_vec(token))\n",
    "        vec = np.array(temp).astype(np.float)\n",
    "        avg = np.mean(vec, axis=0, dtype='float32')\n",
    "        vecs.append(avg)\n",
    "    \n",
    "    return np.array(vecs)\n",
    "\n",
    "def vectorize_sum_google(embedding, x):\n",
    "    \n",
    "    vecs = []\n",
    "    for row in x:\n",
    "        temp = []\n",
    "        for token in row.strip().split():\n",
    "            if token in embedding:\n",
    "                temp.append(embedding.word_vec(token))\n",
    "        vec = np.array(temp).astype(np.float)\n",
    "        avg = np.sum(vec, axis=0, dtype='float32')\n",
    "        vecs.append(avg)\n",
    "    \n",
    "    return np.array(vecs)"
   ]
  },
  {
   "cell_type": "markdown",
   "metadata": {},
   "source": [
    "## vectors - summed and averaged"
   ]
  },
  {
   "cell_type": "code",
   "execution_count": 13,
   "metadata": {},
   "outputs": [],
   "source": [
    "# x = x_all\n",
    "# vecs_sum_glove = vectorize_sum(vec_glove, x)\n",
    "# vecs_sum_wiki = vectorize_sum(vec_wiki, x)\n",
    "# vecs_sum_crawl = vectorize_sum(vec_crawl, x)\n",
    "# vecs_sum_google = vectorize_sum_google(vec_google, x)"
   ]
  },
  {
   "cell_type": "code",
   "execution_count": 14,
   "metadata": {},
   "outputs": [],
   "source": [
    "x = x_all\n",
    "vecs_avg_glove = vectorize_avg(vec_glove, x)\n",
    "vecs_avg_wiki = vectorize_avg(vec_wiki, x)\n",
    "vecs_avg_crawl = vectorize_avg(vec_crawl, x)\n",
    "vecs_avg_google = vectorize_avg_google(vec_google, x)"
   ]
  },
  {
   "cell_type": "code",
   "execution_count": 15,
   "metadata": {},
   "outputs": [],
   "source": [
    "# vectors = [vecs_sum_glove, vecs_sum_wiki, vecs_sum_crawl, vecs_sum_google]\n",
    "vectors = [vecs_avg_glove, vecs_avg_wiki, vecs_avg_crawl, vecs_avg_google]"
   ]
  },
  {
   "cell_type": "code",
   "execution_count": 16,
   "metadata": {},
   "outputs": [],
   "source": [
    "ys = [y_overall, y_hire, y_excit, y_eye, y_smiled, y_rate, y_nofiller, y_friendly,\n",
    "      y_paused, y_engtone, y_str, y_calm, y_notstress, y_focused, y_auth, y_notawk, y_total]"
   ]
  },
  {
   "cell_type": "markdown",
   "metadata": {},
   "source": [
    "# Build Models"
   ]
  },
  {
   "cell_type": "code",
   "execution_count": 17,
   "metadata": {},
   "outputs": [],
   "source": [
    "from sklearn.linear_model import Lasso \n",
    "from sklearn.linear_model import Ridge\n",
    "from sklearn.svm import SVR\n",
    "from sklearn.model_selection import GridSearchCV\n",
    "from sklearn.model_selection import train_test_split"
   ]
  },
  {
   "cell_type": "code",
   "execution_count": 18,
   "metadata": {},
   "outputs": [],
   "source": [
    "# for hyperparameters tuning\n",
    "\n",
    "# params = {'alpha':[0.0001, 0.001, 0.01, 1, 10], 'tol':[0.1, 1, 10]}\n",
    "# params2 = {'gamma': ('scale', 'auto'), 'epsilon':[0.0001, 0.001, 0.01, 1, 10], 'tol':[0.01, 0.1, 1, 10], 'C':[1, 10, 100, 1000]}\n",
    "\n",
    "# model4 = Lasso()\n",
    "# model5 = SVR()\n",
    "\n",
    "# g = GridSearchCV(model4, params, return_train_score=True, cv=5)\n",
    "# g2 = GridSearchCV(model5, params2, return_train_score=True, cv=5)"
   ]
  },
  {
   "cell_type": "code",
   "execution_count": 19,
   "metadata": {},
   "outputs": [],
   "source": [
    "#models\n",
    "lasso = Lasso(alpha=0.001, tol=10)\n",
    "svr = SVR(gamma='scale')\n",
    "ridge = Ridge(alpha=10, tol=0.001, normalize=True)"
   ]
  },
  {
   "cell_type": "markdown",
   "metadata": {},
   "source": [
    "# Run Models"
   ]
  },
  {
   "cell_type": "markdown",
   "metadata": {},
   "source": [
    "## lasso, svr, ridge (k-fold)"
   ]
  },
  {
   "cell_type": "code",
   "execution_count": 20,
   "metadata": {},
   "outputs": [
    {
     "name": "stderr",
     "output_type": "stream",
     "text": [
      "/usr/lib64/python3.6/site-packages/numpy/lib/function_base.py:2534: RuntimeWarning: invalid value encountered in true_divide\n",
      "  c /= stddev[:, None]\n",
      "/usr/lib64/python3.6/site-packages/numpy/lib/function_base.py:2535: RuntimeWarning: invalid value encountered in true_divide\n",
      "  c /= stddev[None, :]\n",
      "/usr/lib64/python3.6/site-packages/numpy/lib/function_base.py:2534: RuntimeWarning: invalid value encountered in true_divide\n",
      "  c /= stddev[:, None]\n",
      "/usr/lib64/python3.6/site-packages/numpy/lib/function_base.py:2535: RuntimeWarning: invalid value encountered in true_divide\n",
      "  c /= stddev[None, :]\n",
      "/usr/lib64/python3.6/site-packages/numpy/lib/function_base.py:2534: RuntimeWarning: invalid value encountered in true_divide\n",
      "  c /= stddev[:, None]\n",
      "/usr/lib64/python3.6/site-packages/numpy/lib/function_base.py:2535: RuntimeWarning: invalid value encountered in true_divide\n",
      "  c /= stddev[None, :]\n",
      "/usr/lib64/python3.6/site-packages/numpy/lib/function_base.py:2534: RuntimeWarning: invalid value encountered in true_divide\n",
      "  c /= stddev[:, None]\n",
      "/usr/lib64/python3.6/site-packages/numpy/lib/function_base.py:2535: RuntimeWarning: invalid value encountered in true_divide\n",
      "  c /= stddev[None, :]\n",
      "/usr/lib64/python3.6/site-packages/numpy/lib/function_base.py:2534: RuntimeWarning: invalid value encountered in true_divide\n",
      "  c /= stddev[:, None]\n",
      "/usr/lib64/python3.6/site-packages/numpy/lib/function_base.py:2535: RuntimeWarning: invalid value encountered in true_divide\n",
      "  c /= stddev[None, :]\n",
      "/usr/lib64/python3.6/site-packages/numpy/lib/function_base.py:2534: RuntimeWarning: invalid value encountered in true_divide\n",
      "  c /= stddev[:, None]\n",
      "/usr/lib64/python3.6/site-packages/numpy/lib/function_base.py:2535: RuntimeWarning: invalid value encountered in true_divide\n",
      "  c /= stddev[None, :]\n",
      "/usr/lib64/python3.6/site-packages/numpy/lib/function_base.py:2534: RuntimeWarning: invalid value encountered in true_divide\n",
      "  c /= stddev[:, None]\n",
      "/usr/lib64/python3.6/site-packages/numpy/lib/function_base.py:2535: RuntimeWarning: invalid value encountered in true_divide\n",
      "  c /= stddev[None, :]\n",
      "/usr/lib64/python3.6/site-packages/numpy/lib/function_base.py:2534: RuntimeWarning: invalid value encountered in true_divide\n",
      "  c /= stddev[:, None]\n",
      "/usr/lib64/python3.6/site-packages/numpy/lib/function_base.py:2535: RuntimeWarning: invalid value encountered in true_divide\n",
      "  c /= stddev[None, :]\n",
      "/usr/lib64/python3.6/site-packages/numpy/lib/function_base.py:2534: RuntimeWarning: invalid value encountered in true_divide\n",
      "  c /= stddev[:, None]\n",
      "/usr/lib64/python3.6/site-packages/numpy/lib/function_base.py:2535: RuntimeWarning: invalid value encountered in true_divide\n",
      "  c /= stddev[None, :]\n"
     ]
    },
    {
     "name": "stdout",
     "output_type": "stream",
     "text": [
      "{'1_1': 0.6091864966731233, '1_2': 0.5485187806665622, '1_3': 0.7204331726318829, '1_4': 0.6193490920096315, '1_5': 0.7658300705208396, '1_6': 0.541180544086415, '1_7': 0.6623614772798931, '1_8': 0.7079165026599213, '1_9': 0.7339118345971227, '1_10': 0.7397803639794881, '1_11': 0.6827666064581994, '1_12': 0.7671805577630161, '1_13': 0.598438427896443, '1_14': 0.5296393896006709, '1_15': 0.5495598619123399, '1_16': 0.6438146714614863, '1_17': 0.617901699155902, '2_1': 0.5500167463812615, '2_2': 0.5468472915951086, '2_3': 0.6760105515429495, '2_4': 0.5841426121597162, '2_5': 0.6582998559429718, '2_6': nan, '2_7': 0.5787479929480545, '2_8': 0.7075180964103138, '2_9': 0.6091094580441366, '2_10': 0.6537886430020197, '2_11': 0.6633933819361986, '2_12': 0.6821706323291968, '2_13': 0.5919257972615728, '2_14': 0.6791107812766362, '2_15': nan, '2_16': 0.5457906795749339, '2_17': 0.5480744545173952, '3_1': 0.703456156814745, '3_2': 0.6867361269337753, '3_3': 0.6844819480043709, '3_4': 0.5824685958895347, '3_5': 0.7302464038695883, '3_6': 0.5160409943845197, '3_7': 0.6796710788369356, '3_8': 0.6680387916403738, '3_9': 0.6574809722518477, '3_10': 0.7071563027979477, '3_11': 0.6977423041577613, '3_12': 0.6373743219796575, '3_13': 0.5620436048836429, '3_14': 0.6992882391513677, '3_15': 0.597834147669719, '3_16': 0.6481207288396198, '3_17': 0.6118242233571043, '4_1': 0.6382045178283815, '4_2': 0.5537089048313404, '4_3': 0.751553771541718, '4_4': 0.6624672092339958, '4_5': 0.709777889859659, '4_6': 0.5307683802138439, '4_7': 0.6010012632262418, '4_8': 0.6957513964086491, '4_9': 0.6510165617661741, '4_10': 0.7524247442670164, '4_11': 0.7751606613753074, '4_12': 0.6656738741683509, '4_13': 0.5638653764386161, '4_14': 0.5977046558819068, '4_15': 0.48902170079671853, '4_16': 0.619334482016838, '4_17': 0.7148923934699867}\n"
     ]
    },
    {
     "name": "stderr",
     "output_type": "stream",
     "text": [
      "/usr/lib64/python3.6/site-packages/numpy/lib/function_base.py:2534: RuntimeWarning: invalid value encountered in true_divide\n",
      "  c /= stddev[:, None]\n",
      "/usr/lib64/python3.6/site-packages/numpy/lib/function_base.py:2535: RuntimeWarning: invalid value encountered in true_divide\n",
      "  c /= stddev[None, :]\n",
      "/usr/lib64/python3.6/site-packages/numpy/lib/function_base.py:2534: RuntimeWarning: invalid value encountered in true_divide\n",
      "  c /= stddev[:, None]\n",
      "/usr/lib64/python3.6/site-packages/numpy/lib/function_base.py:2535: RuntimeWarning: invalid value encountered in true_divide\n",
      "  c /= stddev[None, :]\n"
     ]
    }
   ],
   "source": [
    "#lasso\n",
    "\n",
    "alles = {}\n",
    "k = 5\n",
    "unit = len(x) // k\n",
    "for i in range(k):\n",
    "    results = {}\n",
    "    for k, x in enumerate(vectors):\n",
    "        for j, y in enumerate(ys):\n",
    "            y = np.array(y)\n",
    "            x_test = x[i*unit:(i+1)*unit]\n",
    "            y_test = y[i*unit:(i+1)*unit]\n",
    "            x_train = np.concatenate((x[:i*unit], x[(i+1)*unit:]), axis=0)\n",
    "            y_train = np.concatenate((y[:i*unit], y[(i+1)*unit:]), axis=0)\n",
    "            lasso.fit(x_train, y_train)\n",
    "            preds = lasso.predict(x_test)\n",
    "            result = np.corrcoef(y_test, preds)\n",
    "            results[str(k+1)+\"_\"+str(j+1)] = result\n",
    "    alles[i] = results\n",
    "\n",
    "final1 = {}\n",
    "for k, v in alles.items():\n",
    "    for k2, v2 in v.items():\n",
    "        avg = np.mean(v2)\n",
    "        final1[k2] = avg\n",
    "\n",
    "print(final1)"
   ]
  },
  {
   "cell_type": "code",
   "execution_count": 21,
   "metadata": {},
   "outputs": [
    {
     "name": "stdout",
     "output_type": "stream",
     "text": [
      "{'1_1': 0.5676865880123103, '1_2': 0.5786333312762887, '1_3': 0.6704498366342302, '1_4': 0.41660676966717536, '1_5': 0.5910592834513879, '1_6': 0.5123587662081883, '1_7': 0.5190146987516329, '1_8': 0.6026710171814031, '1_9': 0.5544636237239893, '1_10': 0.6503083677269328, '1_11': 0.6447549918667841, '1_12': 0.6216600955606363, '1_13': 0.5532854301442484, '1_14': 0.6307447905494028, '1_15': 0.5749814526432033, '1_16': 0.564806331837378, '1_17': 0.5252342834245997, '2_1': 0.5602808994302797, '2_2': 0.5793184930051287, '2_3': 0.68883713788827, '2_4': 0.43226753283952324, '2_5': 0.6291272246490831, '2_6': 0.4834161817402689, '2_7': 0.5332469546787648, '2_8': 0.6123107298620231, '2_9': 0.5766663393180788, '2_10': 0.6563369082843193, '2_11': 0.6327280066891665, '2_12': 0.660564461768413, '2_13': 0.5973131013056294, '2_14': 0.6359748775885603, '2_15': 0.6447911516371573, '2_16': 0.5579083939962695, '2_17': 0.5254586868434662, '3_1': 0.5978134903658403, '3_2': 0.6039705366323074, '3_3': 0.6955819883377112, '3_4': 0.44255589340366436, '3_5': 0.6476399049172383, '3_6': 0.5089539660471031, '3_7': 0.5268662488944662, '3_8': 0.6255311374592374, '3_9': 0.552051384670284, '3_10': 0.685634199895539, '3_11': 0.62037175947859, '3_12': 0.6803794551726036, '3_13': 0.6300822598961102, '3_14': 0.6431802274098026, '3_15': 0.6433319218970633, '3_16': 0.6067744355282159, '3_17': 0.5592507108949645, '4_1': 0.5979881046712612, '4_2': 0.6031496290939051, '4_3': 0.6777937245795571, '4_4': 0.45652954422999553, '4_5': 0.6121339552523922, '4_6': 0.5111843386581367, '4_7': 0.48642211443721567, '4_8': 0.6042533001890663, '4_9': 0.5708627627634457, '4_10': 0.6623797502992095, '4_11': 0.6455683652975183, '4_12': 0.6281435811862373, '4_13': 0.5809198059680252, '4_14': 0.6740731022535391, '4_15': 0.5950851641530975, '4_16': 0.6071890229764179, '4_17': 0.5560309093599142}\n"
     ]
    }
   ],
   "source": [
    "#svr\n",
    "\n",
    "alles = {}\n",
    "k = 5\n",
    "unit = len(x) // k\n",
    "for i in range(k):\n",
    "    results = {}\n",
    "    for k, x in enumerate(vectors):\n",
    "        for j, y in enumerate(ys):\n",
    "            y = np.array(y)\n",
    "            x_test = x[i*unit:(i+1)*unit]\n",
    "            y_test = y[i*unit:(i+1)*unit]\n",
    "            x_train = np.concatenate((x[:i*unit], x[(i+1)*unit:]), axis=0)\n",
    "            y_train = np.concatenate((y[:i*unit], y[(i+1)*unit:]), axis=0)\n",
    "            svr.fit(x_train, y_train)\n",
    "            preds = svr.predict(x_test)\n",
    "            result = np.corrcoef(y_test, preds)\n",
    "            results[str(k+1)+\"_\"+str(j+1)] = result\n",
    "    alles[i] = results\n",
    "\n",
    "final2= {}\n",
    "for k, v in alles.items():\n",
    "    for k2, v2 in v.items():\n",
    "        avg = np.mean(v2)\n",
    "        final2[k2] = avg\n",
    "\n",
    "print(final2)"
   ]
  },
  {
   "cell_type": "code",
   "execution_count": 22,
   "metadata": {},
   "outputs": [
    {
     "name": "stdout",
     "output_type": "stream",
     "text": [
      "{'1_1': 0.6591838613299403, '1_2': 0.6142053945190981, '1_3': 0.724268004889666, '1_4': 0.5620610437202472, '1_5': 0.728472947031644, '1_6': 0.5709518911389407, '1_7': 0.5834942897286327, '1_8': 0.6795578994304934, '1_9': 0.7147834777737073, '1_10': 0.7288225777719735, '1_11': 0.6746392305013041, '1_12': 0.7100198110111788, '1_13': 0.5931540020887531, '1_14': 0.531132911120908, '1_15': 0.6309980813407969, '1_16': 0.6314329221129144, '1_17': 0.614495575492715, '2_1': 0.6340230106340757, '2_2': 0.6087499110181064, '2_3': 0.7167031740888943, '2_4': 0.5941705324982481, '2_5': 0.6956796802708701, '2_6': 0.5849088349189391, '2_7': 0.581421414412054, '2_8': 0.6757099074753563, '2_9': 0.672817024607046, '2_10': 0.6908094438985702, '2_11': 0.6256424147691411, '2_12': 0.7319218812206777, '2_13': 0.634432472546396, '2_14': 0.5888780493156719, '2_15': 0.7024754530330855, '2_16': 0.6123261082964162, '2_17': 0.5515762327767753, '3_1': 0.661852354573099, '3_2': 0.6177063675377793, '3_3': 0.7343745193967204, '3_4': 0.5634631071610076, '3_5': 0.7092147510584069, '3_6': 0.5500492867130575, '3_7': 0.5846092137645378, '3_8': 0.7010184349554041, '3_9': 0.688607826889179, '3_10': 0.7338550029214026, '3_11': 0.6354704077554738, '3_12': 0.7163129029156108, '3_13': 0.6086913944012828, '3_14': 0.5842555583273659, '3_15': 0.7041596481016839, '3_16': 0.6280742831647995, '3_17': 0.5842727540871597, '4_1': 0.6905136184208287, '4_2': 0.6443831788943233, '4_3': 0.7327370815956666, '4_4': 0.6656619888720945, '4_5': 0.6711190106888052, '4_6': 0.5745341472294571, '4_7': 0.6077531856145224, '4_8': 0.6634005553021702, '4_9': 0.7282406751345132, '4_10': 0.7598039814971953, '4_11': 0.7371817217476382, '4_12': 0.706079134006014, '4_13': 0.6119217998087582, '4_14': 0.6448825996317838, '4_15': 0.6483243619095118, '4_16': 0.6748380144016526, '4_17': 0.6352796609975122}\n"
     ]
    }
   ],
   "source": [
    "#ridge\n",
    "\n",
    "alles = {}\n",
    "k = 5\n",
    "unit = len(x) // k\n",
    "for i in range(k):\n",
    "    results = {}\n",
    "    for k, x in enumerate(vectors):\n",
    "        for j, y in enumerate(ys):\n",
    "            y = np.array(y)\n",
    "            x_test = x[i*unit:(i+1)*unit]\n",
    "            y_test = y[i*unit:(i+1)*unit]\n",
    "            x_train = np.concatenate((x[:i*unit], x[(i+1)*unit:]), axis=0)\n",
    "            y_train = np.concatenate((y[:i*unit], y[(i+1)*unit:]), axis=0)\n",
    "            ridge.fit(x_train, y_train)\n",
    "            preds = ridge.predict(x_test)\n",
    "            result = np.corrcoef(y_test, preds)\n",
    "            results[str(k+1)+\"_\"+str(j+1)] = result\n",
    "    alles[i] = results\n",
    "\n",
    "final3 = {}\n",
    "for k, v in alles.items():\n",
    "    for k2, v2 in v.items():\n",
    "        avg = np.mean(v2)\n",
    "        final3[k2] = avg\n",
    "\n",
    "print(final3)"
   ]
  },
  {
   "cell_type": "code",
   "execution_count": 23,
   "metadata": {},
   "outputs": [],
   "source": [
    "df = pd.DataFrame([final1, final2, final3]).T\n",
    "# df.to_csv('sg_all_avg.csv')"
   ]
  },
  {
   "cell_type": "code",
   "execution_count": 24,
   "metadata": {},
   "outputs": [
    {
     "data": {
      "text/html": [
       "<div>\n",
       "<style scoped>\n",
       "    .dataframe tbody tr th:only-of-type {\n",
       "        vertical-align: middle;\n",
       "    }\n",
       "\n",
       "    .dataframe tbody tr th {\n",
       "        vertical-align: top;\n",
       "    }\n",
       "\n",
       "    .dataframe thead th {\n",
       "        text-align: right;\n",
       "    }\n",
       "</style>\n",
       "<table border=\"1\" class=\"dataframe\">\n",
       "  <thead>\n",
       "    <tr style=\"text-align: right;\">\n",
       "      <th></th>\n",
       "      <th>0</th>\n",
       "      <th>1</th>\n",
       "      <th>2</th>\n",
       "    </tr>\n",
       "  </thead>\n",
       "  <tbody>\n",
       "    <tr>\n",
       "      <th>1_1</th>\n",
       "      <td>0.609186</td>\n",
       "      <td>0.567687</td>\n",
       "      <td>0.659184</td>\n",
       "    </tr>\n",
       "    <tr>\n",
       "      <th>1_2</th>\n",
       "      <td>0.548519</td>\n",
       "      <td>0.578633</td>\n",
       "      <td>0.614205</td>\n",
       "    </tr>\n",
       "    <tr>\n",
       "      <th>1_3</th>\n",
       "      <td>0.720433</td>\n",
       "      <td>0.670450</td>\n",
       "      <td>0.724268</td>\n",
       "    </tr>\n",
       "    <tr>\n",
       "      <th>1_4</th>\n",
       "      <td>0.619349</td>\n",
       "      <td>0.416607</td>\n",
       "      <td>0.562061</td>\n",
       "    </tr>\n",
       "    <tr>\n",
       "      <th>1_5</th>\n",
       "      <td>0.765830</td>\n",
       "      <td>0.591059</td>\n",
       "      <td>0.728473</td>\n",
       "    </tr>\n",
       "    <tr>\n",
       "      <th>...</th>\n",
       "      <td>...</td>\n",
       "      <td>...</td>\n",
       "      <td>...</td>\n",
       "    </tr>\n",
       "    <tr>\n",
       "      <th>4_13</th>\n",
       "      <td>0.563865</td>\n",
       "      <td>0.580920</td>\n",
       "      <td>0.611922</td>\n",
       "    </tr>\n",
       "    <tr>\n",
       "      <th>4_14</th>\n",
       "      <td>0.597705</td>\n",
       "      <td>0.674073</td>\n",
       "      <td>0.644883</td>\n",
       "    </tr>\n",
       "    <tr>\n",
       "      <th>4_15</th>\n",
       "      <td>0.489022</td>\n",
       "      <td>0.595085</td>\n",
       "      <td>0.648324</td>\n",
       "    </tr>\n",
       "    <tr>\n",
       "      <th>4_16</th>\n",
       "      <td>0.619334</td>\n",
       "      <td>0.607189</td>\n",
       "      <td>0.674838</td>\n",
       "    </tr>\n",
       "    <tr>\n",
       "      <th>4_17</th>\n",
       "      <td>0.714892</td>\n",
       "      <td>0.556031</td>\n",
       "      <td>0.635280</td>\n",
       "    </tr>\n",
       "  </tbody>\n",
       "</table>\n",
       "<p>68 rows × 3 columns</p>\n",
       "</div>"
      ],
      "text/plain": [
       "             0         1         2\n",
       "1_1   0.609186  0.567687  0.659184\n",
       "1_2   0.548519  0.578633  0.614205\n",
       "1_3   0.720433  0.670450  0.724268\n",
       "1_4   0.619349  0.416607  0.562061\n",
       "1_5   0.765830  0.591059  0.728473\n",
       "...        ...       ...       ...\n",
       "4_13  0.563865  0.580920  0.611922\n",
       "4_14  0.597705  0.674073  0.644883\n",
       "4_15  0.489022  0.595085  0.648324\n",
       "4_16  0.619334  0.607189  0.674838\n",
       "4_17  0.714892  0.556031  0.635280\n",
       "\n",
       "[68 rows x 3 columns]"
      ]
     },
     "execution_count": 24,
     "metadata": {},
     "output_type": "execute_result"
    }
   ],
   "source": [
    "df"
   ]
  }
 ],
 "metadata": {
  "kernelspec": {
   "display_name": "Python 3",
   "language": "python",
   "name": "python3"
  },
  "language_info": {
   "codemirror_mode": {
    "name": "ipython",
    "version": 3
   },
   "file_extension": ".py",
   "mimetype": "text/x-python",
   "name": "python",
   "nbconvert_exporter": "python",
   "pygments_lexer": "ipython3",
   "version": "3.6.12"
  }
 },
 "nbformat": 4,
 "nbformat_minor": 2
}
